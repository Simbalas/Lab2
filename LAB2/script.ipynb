{
 "cells": [
  {
   "cell_type": "code",
   "execution_count": 1,
   "id": "0d21938f",
   "metadata": {},
   "outputs": [],
   "source": [
    "import sqlite3\n",
    "\n",
    "# Create a database connection\n",
    "conn = sqlite3.connect('book_recommendation.db')\n",
    "cursor = conn.cursor()\n",
    "\n",
    "# Create the necessary tables for users and books\n",
    "cursor.execute('''\n",
    "    CREATE TABLE IF NOT EXISTS users (\n",
    "        user_id INTEGER PRIMARY KEY AUTOINCREMENT,\n",
    "        username TEXT NOT NULL,\n",
    "        email TEXT NOT NULL,\n",
    "        password_hash TEXT NOT NULL\n",
    "    )\n",
    "''')\n",
    "\n",
    "cursor.execute('''\n",
    "    CREATE TABLE IF NOT EXISTS books (\n",
    "        book_id INTEGER PRIMARY KEY AUTOINCREMENT,\n",
    "        title TEXT NOT NULL,\n",
    "        author TEXT,\n",
    "        description TEXT,\n",
    "        categories TEXT\n",
    "    )\n",
    "''')\n",
    "\n",
    "# Commit the changes and close the connection\n",
    "conn.commit()\n",
    "conn.close()\n"
   ]
  },
  {
   "cell_type": "code",
   "execution_count": 2,
   "id": "db65cdfd",
   "metadata": {},
   "outputs": [
    {
     "name": "stdout",
     "output_type": "stream",
     "text": [
      "Requirement already satisfied: flask-ngrok in c:\\users\\domin\\appdata\\local\\programs\\python\\python310\\lib\\site-packages (0.0.25)\n",
      "Requirement already satisfied: Flask>=0.8 in c:\\users\\domin\\appdata\\local\\programs\\python\\python310\\lib\\site-packages (from flask-ngrok) (3.0.0)\n",
      "Requirement already satisfied: requests in c:\\users\\domin\\appdata\\local\\programs\\python\\python310\\lib\\site-packages (from flask-ngrok) (2.31.0)\n",
      "Requirement already satisfied: Werkzeug>=3.0.0 in c:\\users\\domin\\appdata\\local\\programs\\python\\python310\\lib\\site-packages (from Flask>=0.8->flask-ngrok) (3.0.0)\n",
      "Requirement already satisfied: Jinja2>=3.1.2 in c:\\users\\domin\\appdata\\local\\programs\\python\\python310\\lib\\site-packages (from Flask>=0.8->flask-ngrok) (3.1.2)\n",
      "Requirement already satisfied: itsdangerous>=2.1.2 in c:\\users\\domin\\appdata\\local\\programs\\python\\python310\\lib\\site-packages (from Flask>=0.8->flask-ngrok) (2.1.2)\n",
      "Requirement already satisfied: click>=8.1.3 in c:\\users\\domin\\appdata\\local\\programs\\python\\python310\\lib\\site-packages (from Flask>=0.8->flask-ngrok) (8.1.7)\n",
      "Requirement already satisfied: blinker>=1.6.2 in c:\\users\\domin\\appdata\\local\\programs\\python\\python310\\lib\\site-packages (from Flask>=0.8->flask-ngrok) (1.6.3)\n",
      "Requirement already satisfied: charset-normalizer<4,>=2 in c:\\users\\domin\\appdata\\local\\programs\\python\\python310\\lib\\site-packages (from requests->flask-ngrok) (3.3.2)\n",
      "Requirement already satisfied: idna<4,>=2.5 in c:\\users\\domin\\appdata\\local\\programs\\python\\python310\\lib\\site-packages (from requests->flask-ngrok) (3.4)\n",
      "Requirement already satisfied: urllib3<3,>=1.21.1 in c:\\users\\domin\\appdata\\local\\programs\\python\\python310\\lib\\site-packages (from requests->flask-ngrok) (2.1.0)\n",
      "Requirement already satisfied: certifi>=2017.4.17 in c:\\users\\domin\\appdata\\local\\programs\\python\\python310\\lib\\site-packages (from requests->flask-ngrok) (2023.7.22)\n",
      "Requirement already satisfied: colorama in c:\\users\\domin\\appdata\\local\\programs\\python\\python310\\lib\\site-packages (from click>=8.1.3->Flask>=0.8->flask-ngrok) (0.4.6)\n",
      "Requirement already satisfied: MarkupSafe>=2.0 in c:\\users\\domin\\appdata\\local\\programs\\python\\python310\\lib\\site-packages (from Jinja2>=3.1.2->Flask>=0.8->flask-ngrok) (2.1.3)\n",
      "Note: you may need to restart the kernel to use updated packages.\n"
     ]
    }
   ],
   "source": [
    "pip install --upgrade flask-ngrok\n"
   ]
  },
  {
   "cell_type": "code",
   "execution_count": 3,
   "id": "42e63679-ab87-43af-a648-0b958363187b",
   "metadata": {},
   "outputs": [
    {
     "name": "stdout",
     "output_type": "stream",
     "text": [
      "Collecting nltkNote: you may need to restart the kernel to use updated packages.\n",
      "\n",
      "  Downloading nltk-3.8.1-py3-none-any.whl (1.5 MB)\n",
      "     ---------------------------------------- 0.0/1.5 MB ? eta -:--:--\n",
      "      --------------------------------------- 0.0/1.5 MB 660.6 kB/s eta 0:00:03\n",
      "     - -------------------------------------- 0.1/1.5 MB 550.5 kB/s eta 0:00:03\n",
      "     - -------------------------------------- 0.1/1.5 MB 491.5 kB/s eta 0:00:03\n",
      "     -- ------------------------------------- 0.1/1.5 MB 547.6 kB/s eta 0:00:03\n",
      "     --- ------------------------------------ 0.1/1.5 MB 516.7 kB/s eta 0:00:03\n",
      "     --- ------------------------------------ 0.1/1.5 MB 502.3 kB/s eta 0:00:03\n",
      "     ---- ----------------------------------- 0.2/1.5 MB 525.1 kB/s eta 0:00:03\n",
      "     ----- ---------------------------------- 0.2/1.5 MB 537.4 kB/s eta 0:00:03\n",
      "     ----- ---------------------------------- 0.2/1.5 MB 529.7 kB/s eta 0:00:03\n",
      "     ------ --------------------------------- 0.3/1.5 MB 525.1 kB/s eta 0:00:03\n",
      "     ------- -------------------------------- 0.3/1.5 MB 550.1 kB/s eta 0:00:03\n",
      "     -------- ------------------------------- 0.3/1.5 MB 543.9 kB/s eta 0:00:03\n",
      "     -------- ------------------------------- 0.3/1.5 MB 552.6 kB/s eta 0:00:03\n",
      "     --------- ------------------------------ 0.4/1.5 MB 557.1 kB/s eta 0:00:03\n",
      "     ---------- ----------------------------- 0.4/1.5 MB 551.5 kB/s eta 0:00:03\n",
      "     ---------- ----------------------------- 0.4/1.5 MB 530.1 kB/s eta 0:00:03\n",
      "     ----------- ---------------------------- 0.4/1.5 MB 535.4 kB/s eta 0:00:03\n",
      "     ----------- ---------------------------- 0.5/1.5 MB 542.3 kB/s eta 0:00:02\n",
      "     ------------ --------------------------- 0.5/1.5 MB 538.3 kB/s eta 0:00:02\n",
      "     ------------- -------------------------- 0.5/1.5 MB 542.5 kB/s eta 0:00:02\n",
      "     -------------- ------------------------- 0.5/1.5 MB 539.5 kB/s eta 0:00:02\n",
      "     -------------- ------------------------- 0.6/1.5 MB 542.7 kB/s eta 0:00:02\n",
      "     --------------- ------------------------ 0.6/1.5 MB 540.0 kB/s eta 0:00:02\n",
      "     ---------------- ----------------------- 0.6/1.5 MB 544.8 kB/s eta 0:00:02\n",
      "     ---------------- ----------------------- 0.6/1.5 MB 547.9 kB/s eta 0:00:02\n",
      "     ----------------- ---------------------- 0.7/1.5 MB 544.8 kB/s eta 0:00:02\n",
      "     ------------------ --------------------- 0.7/1.5 MB 547.7 kB/s eta 0:00:02\n",
      "     ------------------ --------------------- 0.7/1.5 MB 545.2 kB/s eta 0:00:02\n",
      "     ------------------- -------------------- 0.7/1.5 MB 549.0 kB/s eta 0:00:02\n",
      "     -------------------- ------------------- 0.8/1.5 MB 551.1 kB/s eta 0:00:02\n",
      "     --------------------- ------------------ 0.8/1.5 MB 548.7 kB/s eta 0:00:02\n",
      "     --------------------- ------------------ 0.8/1.5 MB 552.0 kB/s eta 0:00:02\n",
      "     ---------------------- ----------------- 0.8/1.5 MB 554.2 kB/s eta 0:00:02\n",
      "     ----------------------- ---------------- 0.9/1.5 MB 551.6 kB/s eta 0:00:02\n",
      "     ----------------------- ---------------- 0.9/1.5 MB 553.7 kB/s eta 0:00:02\n",
      "     ------------------------- -------------- 1.0/1.5 MB 569.9 kB/s eta 0:00:01\n",
      "     -------------------------- ------------- 1.0/1.5 MB 584.1 kB/s eta 0:00:01\n",
      "     ---------------------------- ----------- 1.1/1.5 MB 603.4 kB/s eta 0:00:01\n",
      "     ------------------------------ --------- 1.1/1.5 MB 627.3 kB/s eta 0:00:01\n",
      "     ------------------------------- -------- 1.2/1.5 MB 639.0 kB/s eta 0:00:01\n",
      "     --------------------------------- ------ 1.3/1.5 MB 660.8 kB/s eta 0:00:01\n",
      "     ---------------------------------- ----- 1.3/1.5 MB 665.9 kB/s eta 0:00:01\n",
      "     ------------------------------------ --- 1.4/1.5 MB 675.8 kB/s eta 0:00:01\n",
      "     ------------------------------------- -- 1.4/1.5 MB 695.7 kB/s eta 0:00:01\n",
      "     ---------------------------------------  1.5/1.5 MB 709.6 kB/s eta 0:00:01\n",
      "     ---------------------------------------  1.5/1.5 MB 708.9 kB/s eta 0:00:01\n",
      "     ---------------------------------------- 1.5/1.5 MB 686.1 kB/s eta 0:00:00\n",
      "Requirement already satisfied: click in c:\\users\\domin\\appdata\\local\\programs\\python\\python310\\lib\\site-packages (from nltk) (8.1.7)\n",
      "Collecting joblib (from nltk)\n",
      "  Downloading joblib-1.3.2-py3-none-any.whl.metadata (5.4 kB)\n",
      "Collecting regex>=2021.8.3 (from nltk)\n",
      "  Downloading regex-2023.10.3-cp310-cp310-win_amd64.whl.metadata (41 kB)\n",
      "     ---------------------------------------- 0.0/42.0 kB ? eta -:--:--\n",
      "     ---------------------------------------  41.0/42.0 kB ? eta -:--:--\n",
      "     -------------------------------------- 42.0/42.0 kB 503.7 kB/s eta 0:00:00\n",
      "Collecting tqdm (from nltk)\n",
      "  Downloading tqdm-4.66.1-py3-none-any.whl.metadata (57 kB)\n",
      "     ---------------------------------------- 0.0/57.6 kB ? eta -:--:--\n",
      "     ----------------------------------- ---- 51.2/57.6 kB 2.6 MB/s eta 0:00:01\n",
      "     -------------------------------------- 57.6/57.6 kB 607.3 kB/s eta 0:00:00\n",
      "Requirement already satisfied: colorama in c:\\users\\domin\\appdata\\local\\programs\\python\\python310\\lib\\site-packages (from click->nltk) (0.4.6)\n",
      "Downloading regex-2023.10.3-cp310-cp310-win_amd64.whl (269 kB)\n",
      "   ---------------------------------------- 0.0/269.6 kB ? eta -:--:--\n",
      "   ---------------- ----------------------- 112.6/269.6 kB 2.2 MB/s eta 0:00:01\n",
      "   --------------------- ------------------ 143.4/269.6 kB 1.4 MB/s eta 0:00:01\n",
      "   ------------------------------ --------- 204.8/269.6 kB 1.4 MB/s eta 0:00:01\n",
      "   ------------------------------------- -- 256.0/269.6 kB 1.4 MB/s eta 0:00:01\n",
      "   ---------------------------------------  266.2/269.6 kB 1.2 MB/s eta 0:00:01\n",
      "   ---------------------------------------  266.2/269.6 kB 1.2 MB/s eta 0:00:01\n",
      "   -------------------------------------- 269.6/269.6 kB 873.1 kB/s eta 0:00:00\n",
      "Downloading joblib-1.3.2-py3-none-any.whl (302 kB)\n",
      "   ---------------------------------------- 0.0/302.2 kB ? eta -:--:--\n",
      "   -------- ------------------------------- 61.4/302.2 kB 3.4 MB/s eta 0:00:01\n",
      "   ---------------- ----------------------- 122.9/302.2 kB 1.8 MB/s eta 0:00:01\n",
      "   ------------------------- -------------- 194.6/302.2 kB 1.5 MB/s eta 0:00:01\n",
      "   --------------------------------- ------ 256.0/302.2 kB 1.4 MB/s eta 0:00:01\n",
      "   ---------------------------------------  297.0/302.2 kB 1.4 MB/s eta 0:00:01\n",
      "   ---------------------------------------  297.0/302.2 kB 1.4 MB/s eta 0:00:01\n",
      "   ---------------------------------------- 302.2/302.2 kB 1.0 MB/s eta 0:00:00\n",
      "Downloading tqdm-4.66.1-py3-none-any.whl (78 kB)\n",
      "   ---------------------------------------- 0.0/78.3 kB ? eta -:--:--\n",
      "   ------------------------------------ --- 71.7/78.3 kB 1.9 MB/s eta 0:00:01\n",
      "   ------------------------------------ --- 71.7/78.3 kB 1.9 MB/s eta 0:00:01\n",
      "   ---------------------------------------- 78.3/78.3 kB 723.6 kB/s eta 0:00:00\n",
      "Installing collected packages: tqdm, regex, joblib, nltk\n",
      "Successfully installed joblib-1.3.2 nltk-3.8.1 regex-2023.10.3 tqdm-4.66.1\n"
     ]
    }
   ],
   "source": [
    "pip install nltk"
   ]
  },
  {
   "cell_type": "code",
   "execution_count": 4,
   "id": "22a7519f-cdf5-48be-ba7e-8daf70d164ff",
   "metadata": {},
   "outputs": [
    {
     "name": "stdout",
     "output_type": "stream",
     "text": [
      "Collecting fuzzywuzzy\n",
      "  Downloading fuzzywuzzy-0.18.0-py2.py3-none-any.whl (18 kB)\n",
      "Installing collected packages: fuzzywuzzy\n",
      "Successfully installed fuzzywuzzy-0.18.0\n",
      "Note: you may need to restart the kernel to use updated packages.\n"
     ]
    }
   ],
   "source": [
    "pip install fuzzywuzzy"
   ]
  },
  {
   "cell_type": "code",
   "execution_count": 5,
   "id": "56c1acc8-af0e-42f4-8ec3-3252c0edeb9e",
   "metadata": {},
   "outputs": [
    {
     "name": "stdout",
     "output_type": "stream",
     "text": [
      "Collecting python-Levenshtein\n",
      "  Downloading python_Levenshtein-0.23.0-py3-none-any.whl.metadata (3.8 kB)\n",
      "Collecting Levenshtein==0.23.0 (from python-Levenshtein)\n",
      "  Downloading Levenshtein-0.23.0-cp310-cp310-win_amd64.whl.metadata (3.5 kB)\n",
      "Collecting rapidfuzz<4.0.0,>=3.1.0 (from Levenshtein==0.23.0->python-Levenshtein)\n",
      "  Downloading rapidfuzz-3.5.2-cp310-cp310-win_amd64.whl.metadata (11 kB)\n",
      "Downloading python_Levenshtein-0.23.0-py3-none-any.whl (9.4 kB)\n",
      "Downloading Levenshtein-0.23.0-cp310-cp310-win_amd64.whl (100 kB)\n",
      "   ---------------------------------------- 0.0/101.0 kB ? eta -:--:--\n",
      "   ------------ --------------------------- 30.7/101.0 kB ? eta -:--:--\n",
      "   ------------------------------------ --- 92.2/101.0 kB 1.3 MB/s eta 0:00:01\n",
      "   -------------------------------------- 101.0/101.0 kB 825.0 kB/s eta 0:00:00\n",
      "Downloading rapidfuzz-3.5.2-cp310-cp310-win_amd64.whl (1.7 MB)\n",
      "   ---------------------------------------- 0.0/1.7 MB ? eta -:--:--\n",
      "   - -------------------------------------- 0.1/1.7 MB 1.9 MB/s eta 0:00:01\n",
      "   -- ------------------------------------- 0.1/1.7 MB 1.8 MB/s eta 0:00:01\n",
      "   ---- ----------------------------------- 0.2/1.7 MB 1.7 MB/s eta 0:00:01\n",
      "   ----- ---------------------------------- 0.3/1.7 MB 1.6 MB/s eta 0:00:01\n",
      "   ------- -------------------------------- 0.3/1.7 MB 1.5 MB/s eta 0:00:01\n",
      "   --------- ------------------------------ 0.4/1.7 MB 1.4 MB/s eta 0:00:01\n",
      "   ----------- ---------------------------- 0.5/1.7 MB 1.5 MB/s eta 0:00:01\n",
      "   ------------- -------------------------- 0.6/1.7 MB 1.4 MB/s eta 0:00:01\n",
      "   -------------- ------------------------- 0.6/1.7 MB 1.4 MB/s eta 0:00:01\n",
      "   ---------------- ----------------------- 0.7/1.7 MB 1.4 MB/s eta 0:00:01\n",
      "   ----------------- ---------------------- 0.8/1.7 MB 1.4 MB/s eta 0:00:01\n",
      "   -------------------- ------------------- 0.9/1.7 MB 1.4 MB/s eta 0:00:01\n",
      "   --------------------- ------------------ 0.9/1.7 MB 1.4 MB/s eta 0:00:01\n",
      "   ----------------------- ---------------- 1.0/1.7 MB 1.4 MB/s eta 0:00:01\n",
      "   ------------------------ --------------- 1.1/1.7 MB 1.4 MB/s eta 0:00:01\n",
      "   -------------------------- ------------- 1.1/1.7 MB 1.4 MB/s eta 0:00:01\n",
      "   --------------------------- ------------ 1.2/1.7 MB 1.4 MB/s eta 0:00:01\n",
      "   ----------------------------- ---------- 1.2/1.7 MB 1.4 MB/s eta 0:00:01\n",
      "   ------------------------------ --------- 1.3/1.7 MB 1.4 MB/s eta 0:00:01\n",
      "   -------------------------------- ------- 1.4/1.7 MB 1.4 MB/s eta 0:00:01\n",
      "   --------------------------------- ------ 1.4/1.7 MB 1.4 MB/s eta 0:00:01\n",
      "   ---------------------------------- ----- 1.5/1.7 MB 1.4 MB/s eta 0:00:01\n",
      "   ------------------------------------ --- 1.6/1.7 MB 1.4 MB/s eta 0:00:01\n",
      "   -------------------------------------- - 1.6/1.7 MB 1.4 MB/s eta 0:00:01\n",
      "   -------------------------------------- - 1.6/1.7 MB 1.4 MB/s eta 0:00:01\n",
      "   ---------------------------------------  1.7/1.7 MB 1.4 MB/s eta 0:00:01\n",
      "   ---------------------------------------  1.7/1.7 MB 1.4 MB/s eta 0:00:01\n",
      "   ---------------------------------------- 1.7/1.7 MB 1.3 MB/s eta 0:00:00\n",
      "Installing collected packages: rapidfuzz, Levenshtein, python-Levenshtein\n",
      "Successfully installed Levenshtein-0.23.0 python-Levenshtein-0.23.0 rapidfuzz-3.5.2\n",
      "Note: you may need to restart the kernel to use updated packages.\n"
     ]
    }
   ],
   "source": [
    "pip install python-Levenshtein"
   ]
  },
  {
   "cell_type": "code",
   "execution_count": 6,
   "id": "b960b250-2d7e-4cd2-9ebe-c4ff77c5152f",
   "metadata": {},
   "outputs": [
    {
     "name": "stderr",
     "output_type": "stream",
     "text": [
      "[nltk_data] Downloading package punkt to\n",
      "[nltk_data]     C:\\Users\\Domin\\AppData\\Roaming\\nltk_data...\n",
      "[nltk_data]   Unzipping tokenizers\\punkt.zip.\n"
     ]
    },
    {
     "data": {
      "text/plain": [
       "True"
      ]
     },
     "execution_count": 6,
     "metadata": {},
     "output_type": "execute_result"
    }
   ],
   "source": [
    "import nltk\n",
    "nltk.download('punkt')\n"
   ]
  },
  {
   "cell_type": "code",
   "execution_count": null,
   "id": "f231794f-2586-4435-85af-fafba86b023f",
   "metadata": {},
   "outputs": [],
   "source": []
  }
 ],
 "metadata": {
  "kernelspec": {
   "display_name": "Python 3 (ipykernel)",
   "language": "python",
   "name": "python3"
  },
  "language_info": {
   "codemirror_mode": {
    "name": "ipython",
    "version": 3
   },
   "file_extension": ".py",
   "mimetype": "text/x-python",
   "name": "python",
   "nbconvert_exporter": "python",
   "pygments_lexer": "ipython3",
   "version": "3.10.7"
  }
 },
 "nbformat": 4,
 "nbformat_minor": 5
}
